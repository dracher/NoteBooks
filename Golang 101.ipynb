{
 "cells": [
  {
   "cell_type": "markdown",
   "metadata": {},
   "source": [
    "# Golang Very Short Introduction"
   ]
  },
  {
   "cell_type": "markdown",
   "metadata": {},
   "source": [
    "## The Origins of Go"
   ]
  },
  {
   "cell_type": "markdown",
   "metadata": {},
   "source": [
    "Go was conceived in September 2007 by Robert Griesemer, Rob Pike, and Ken Thomps on, all\n",
    "at Google, and was announced in November 2009. The goals of the language and its accompanying tools were to be expressive, efficient in bot h comp ilation and exe cut ion, and effec tive\n",
    "in writing reliable and robust programs."
   ]
  },
  {
   "cell_type": "markdown",
   "metadata": {},
   "source": [
    "## Hello World"
   ]
  },
  {
   "cell_type": "code",
   "execution_count": null,
   "metadata": {
    "collapsed": true
   },
   "outputs": [],
   "source": [
    "package main\n",
    "\n",
    ":import \"fmt\"\n",
    "\n",
    "func main() {\n",
    "    fmt.Println(\"Hello World\")\n",
    "}"
   ]
  },
  {
   "cell_type": "markdown",
   "metadata": {
    "collapsed": true
   },
   "source": [
    "## Goroutines"
   ]
  },
  {
   "cell_type": "markdown",
   "metadata": {},
   "source": [
    "Goroutines run in the same address space, so access to shared memory must be synchronized. \n",
    "The sync package provides useful primitives, although you won't need them much in Go as there are other primitives"
   ]
  },
  {
   "cell_type": "code",
   "execution_count": null,
   "metadata": {
    "collapsed": true
   },
   "outputs": [],
   "source": [
    ":import \"fmt\""
   ]
  },
  {
   "cell_type": "code",
   "execution_count": null,
   "metadata": {
    "collapsed": true
   },
   "outputs": [],
   "source": [
    ":import \"time\""
   ]
  },
  {
   "cell_type": "code",
   "execution_count": null,
   "metadata": {
    "collapsed": false
   },
   "outputs": [],
   "source": [
    "func say(s string) {\n",
    "\tfor i := 0; i < 5; i++ {\n",
    "\t\ttime.Sleep(100 * time.Millisecond)\n",
    "\t\tfmt.Println(s)\n",
    "\t}\n",
    "}"
   ]
  },
  {
   "cell_type": "code",
   "execution_count": null,
   "metadata": {
    "collapsed": false
   },
   "outputs": [],
   "source": [
    "go say(\"hello\")\n",
    "say(\"world\")"
   ]
  },
  {
   "cell_type": "markdown",
   "metadata": {},
   "source": [
    "## Channels"
   ]
  },
  {
   "cell_type": "markdown",
   "metadata": {},
   "source": [
    "By default, sends and receives `block` until the other side is ready. This allows goroutines to synchronize without explicit locks or condition variables."
   ]
  },
  {
   "cell_type": "code",
   "execution_count": null,
   "metadata": {
    "collapsed": true
   },
   "outputs": [],
   "source": [
    ":import \"fmt\""
   ]
  },
  {
   "cell_type": "code",
   "execution_count": null,
   "metadata": {
    "collapsed": false
   },
   "outputs": [],
   "source": [
    "func sum(s []int, c chan int) {\n",
    "    sum := 0\n",
    "    for _, v := range s {\n",
    "        fmt.Println(v)\n",
    "        sum += v\n",
    "    }\n",
    "    c <- sum\n",
    "}"
   ]
  },
  {
   "cell_type": "code",
   "execution_count": null,
   "metadata": {
    "collapsed": false
   },
   "outputs": [],
   "source": [
    "s := []int{1, 1, 1, 9, 9, 9}\n",
    "c := make(chan int)\n",
    "go sum(s[:len(s)/2], c)\n",
    "go sum(s[len(s)/2:], c)\n",
    "x, y := <-c, <-c // receive from c\n",
    "\n",
    "fmt.Println(x, y, x+y)"
   ]
  },
  {
   "cell_type": "markdown",
   "metadata": {},
   "source": [
    "### Buffered Channels"
   ]
  },
  {
   "cell_type": "markdown",
   "metadata": {},
   "source": [
    "Channels can be buffered. Provide the buffer length as the second argument to make to initialize a buffered channel"
   ]
  },
  {
   "cell_type": "code",
   "execution_count": null,
   "metadata": {
    "collapsed": false
   },
   "outputs": [],
   "source": [
    "ch := make(chan int, 100)"
   ]
  },
  {
   "cell_type": "code",
   "execution_count": null,
   "metadata": {
    "collapsed": true
   },
   "outputs": [],
   "source": [
    ":import \"fmt\""
   ]
  },
  {
   "cell_type": "code",
   "execution_count": null,
   "metadata": {
    "collapsed": false
   },
   "outputs": [],
   "source": [
    "ch := make(chan int, 2)\n",
    "ch <- 1\n",
    "ch <- 2\n",
    "fmt.Println(<-ch)\n",
    "fmt.Println(<-ch)\n",
    "fmt.Println(<-ch)"
   ]
  },
  {
   "cell_type": "markdown",
   "metadata": {},
   "source": [
    "## Range and Close"
   ]
  },
  {
   "cell_type": "markdown",
   "metadata": {},
   "source": [
    "A sender can `close` a channel to indicate that no more values will be sent. Receivers can test whether a channel has been closed by assigning a second parameter to the receive expression\n",
    "    \n",
    "    v, ok := <-ch\n",
    "    \n",
    "**Note:** Only the sender should close a channel, never the receiver. Sending on a closed channel will cause a panic.\n",
    "\n",
    "**Another note:** Channels aren't like files; you don't usually need to close them. Closing is only necessary when the receiver must be told there are no more values coming, such as to terminate a range loop."
   ]
  },
  {
   "cell_type": "code",
   "execution_count": null,
   "metadata": {
    "collapsed": true
   },
   "outputs": [],
   "source": [
    ":import \"fmt\""
   ]
  },
  {
   "cell_type": "code",
   "execution_count": null,
   "metadata": {
    "collapsed": true
   },
   "outputs": [],
   "source": [
    "func fibonacci(n int, c chan int) {\n",
    "    x, y := 0, 1\n",
    "    for i:=0; i<n; i++ {\n",
    "        c <- x\n",
    "        x, y = y, x+y\n",
    "    }\n",
    "    close(c)\n",
    "}\n",
    "\n",
    "c := make(chan int, 10)\n",
    "go fibonacci(cap(c), c)\n",
    "for i := range c {\n",
    "    fmt.Println(i)\n",
    "}"
   ]
  },
  {
   "cell_type": "code",
   "execution_count": null,
   "metadata": {
    "collapsed": true
   },
   "outputs": [],
   "source": []
  }
 ],
 "metadata": {
  "kernelspec": {
   "display_name": "Golang",
   "language": "go",
   "name": "gophernotes"
  },
  "language_info": {
   "name": "go"
  }
 },
 "nbformat": 4,
 "nbformat_minor": 0
}
